{
 "cells": [
  {
   "cell_type": "code",
   "execution_count": 1,
   "id": "27b409b0-0007-4cec-8c48-6d8ae927399f",
   "metadata": {},
   "outputs": [],
   "source": [
    "import os\n",
    "import torch\n",
    "from torch import nn\n",
    "from torch.utils.data import DataLoader\n",
    "from torchvision import datasets, transforms"
   ]
  },
  {
   "cell_type": "markdown",
   "id": "a0ead8da-d8ac-4f4e-945a-05972a041b21",
   "metadata": {},
   "source": [
    "### 학습을 위한 장치 얻기\n",
    "가능한 경우 GPU 또는 MPS와 같은 하드웨어 가속기에서 모델을 학습하려고 한다. torch.cuda 또는 torch.backends.mps가 사용가능한지 확인해보고, 그렇지 않으면 CPU를 계속 사용한다."
   ]
  },
  {
   "cell_type": "code",
   "execution_count": 2,
   "id": "fd43862f-0b05-4e6b-83c6-f6c0011cd47e",
   "metadata": {},
   "outputs": [
    {
     "name": "stdout",
     "output_type": "stream",
     "text": [
      "Using cuda device\n"
     ]
    }
   ],
   "source": [
    "device = (\n",
    "    \"cuda\"\n",
    "    if torch.cuda.is_available()\n",
    "    else \"mps\"\n",
    "    if torch.backends.mps.is_available()\n",
    "    else \"cpu\"\n",
    ")\n",
    "print(f\"Using {device} device\")"
   ]
  },
  {
   "cell_type": "markdown",
   "id": "b811e097-ae6c-4d3c-a388-3c81148e44d6",
   "metadata": {},
   "source": [
    "#### 클래스 정의하기 \n",
    "신경망 모델을 nn.Module의 하위 클래스로 정의하고, __init__에서 신경망 계층들을 초기화한다. nn.Modele을 상속받은 모든 클래스는 forward 메소드에 입력 데이터에 대한 연산들을 구현한다."
   ]
  },
  {
   "cell_type": "code",
   "execution_count": 3,
   "id": "f5a2523b-3af4-479c-b39c-5bdbc59d7108",
   "metadata": {},
   "outputs": [],
   "source": [
    "class NeuralNetwork(nn.Module):\n",
    "    def __init__(self):\n",
    "        super().__init__()\n",
    "        self.flatten = nn.Flatten()\n",
    "        self.linear_relu_stack = nn.Sequential(\n",
    "            nn.Linear(28*28, 512),\n",
    "            nn.ReLU(),\n",
    "            nn.Linear(512, 512),\n",
    "            nn.ReLU(),\n",
    "            nn.Linear(512,10)\n",
    "        )\n",
    "\n",
    "    def forward(self, x):\n",
    "        x = self.flatten(x)\n",
    "        logits = self.linear_relu_stack(x)\n",
    "        return logits"
   ]
  },
  {
   "cell_type": "code",
   "execution_count": 4,
   "id": "455be720-5cd7-448b-b1a2-713aa40514c9",
   "metadata": {},
   "outputs": [
    {
     "name": "stdout",
     "output_type": "stream",
     "text": [
      "NeuralNetwork(\n",
      "  (flatten): Flatten(start_dim=1, end_dim=-1)\n",
      "  (linear_relu_stack): Sequential(\n",
      "    (0): Linear(in_features=784, out_features=512, bias=True)\n",
      "    (1): ReLU()\n",
      "    (2): Linear(in_features=512, out_features=512, bias=True)\n",
      "    (3): ReLU()\n",
      "    (4): Linear(in_features=512, out_features=10, bias=True)\n",
      "  )\n",
      ")\n"
     ]
    }
   ],
   "source": [
    "model = NeuralNetwork().to(device)\n",
    "print(model)"
   ]
  },
  {
   "cell_type": "code",
   "execution_count": 5,
   "id": "6f0497a0-48ba-4c13-a7d1-2346899dfd2c",
   "metadata": {},
   "outputs": [
    {
     "name": "stdout",
     "output_type": "stream",
     "text": [
      "Predicted class: tensor([9], device='cuda:0')\n"
     ]
    }
   ],
   "source": [
    "X = torch.rand(1, 28, 28, device = device)\n",
    "logits = model(X)\n",
    "pred_probab = nn.Softmax(dim = 1)(logits)\n",
    "y_pred = pred_probab.argmax(1)\n",
    "print(f\"Predicted class: {y_pred}\")"
   ]
  },
  {
   "cell_type": "markdown",
   "id": "784cc811-1286-4751-a9c0-4a0ec1e15da5",
   "metadata": {},
   "source": [
    "### Model Layer\n",
    "FashionMNIST 모델의 레이어를 분석해본다."
   ]
  },
  {
   "cell_type": "code",
   "execution_count": 6,
   "id": "d2d9a23a-ee57-425d-98b9-4ddb8d87fc2c",
   "metadata": {},
   "outputs": [
    {
     "name": "stdout",
     "output_type": "stream",
     "text": [
      "torch.Size([3, 28, 28])\n"
     ]
    }
   ],
   "source": [
    "input_image = torch.rand(3, 28, 28)\n",
    "print(input_image.size())"
   ]
  },
  {
   "cell_type": "markdown",
   "id": "acf6d2cb-f287-4493-bd99-7158a9677a24",
   "metadata": {},
   "source": [
    "#### nn.Flatten\n",
    "nn.Flatten Layer을 초기화하여 각 28 * 28의 2D 이미지를 784픽셀 값을 갖는 연속된 배열로 변환한다. (dim = 0의 미니배치 차원은 유지된다)"
   ]
  },
  {
   "cell_type": "code",
   "execution_count": 7,
   "id": "0c058728-aee5-4a71-a08f-7640c0178163",
   "metadata": {},
   "outputs": [
    {
     "name": "stdout",
     "output_type": "stream",
     "text": [
      "torch.Size([3, 784])\n"
     ]
    }
   ],
   "source": [
    "flatten = nn.Flatten()\n",
    "flat_image = flatten(input_image)\n",
    "print(flat_image.size())"
   ]
  },
  {
   "cell_type": "markdown",
   "id": "abb636a0-25df-46d2-99a5-a7496ba319f6",
   "metadata": {},
   "source": [
    "#### nn.Linear\n",
    "Linear Layer는 가중치(weight)와 편향(bias)를 사용하여 입력에 선형 변환(Linear transformation)을 적용하는 모듈이다."
   ]
  },
  {
   "cell_type": "code",
   "execution_count": 8,
   "id": "89e09f72-ebca-4d06-8c40-28a627477cbc",
   "metadata": {},
   "outputs": [
    {
     "name": "stdout",
     "output_type": "stream",
     "text": [
      "torch.Size([3, 20])\n"
     ]
    }
   ],
   "source": [
    "layer1 = nn.Linear(in_features=28*28, out_features=20)\n",
    "hidden1 = layer1(flat_image)\n",
    "print(hidden1.size())"
   ]
  },
  {
   "cell_type": "markdown",
   "id": "ebb7e242-93dc-43ff-b250-fecb7c05a161",
   "metadata": {},
   "source": [
    "#### nn.ReLU"
   ]
  },
  {
   "cell_type": "code",
   "execution_count": 9,
   "id": "e2a6ed94-7c24-4733-9e43-a7bc1d308bf1",
   "metadata": {},
   "outputs": [
    {
     "name": "stdout",
     "output_type": "stream",
     "text": [
      "Before ReLU: tensor([[-0.2002,  0.3685,  0.8839,  0.2427,  0.0777,  0.5713, -0.2637, -0.1987,\n",
      "         -0.0698,  0.0473,  0.1099,  0.4739,  0.1207,  0.1972, -0.3698, -0.0733,\n",
      "         -0.3414, -0.2336, -0.1807,  0.1402],\n",
      "        [-0.3390,  0.5822,  0.7392,  0.2595,  0.0187,  0.6626, -0.1510, -0.5012,\n",
      "         -0.1165, -0.1157, -0.1946,  0.5475,  0.2707,  0.2504, -0.1932, -0.1731,\n",
      "         -0.4110, -0.3225, -0.5769, -0.0456],\n",
      "        [-0.1090,  0.3625,  0.5586, -0.2882, -0.1520,  0.4636, -0.0283, -0.3950,\n",
      "         -0.1728,  0.2591,  0.1435,  0.6109,  0.3145,  0.3518,  0.3801, -0.3324,\n",
      "          0.0113, -0.2516, -0.3152, -0.0069]], grad_fn=<AddmmBackward0>)\n",
      "\n",
      "\n",
      "After ReLU: tensor([[0.0000, 0.3685, 0.8839, 0.2427, 0.0777, 0.5713, 0.0000, 0.0000, 0.0000,\n",
      "         0.0473, 0.1099, 0.4739, 0.1207, 0.1972, 0.0000, 0.0000, 0.0000, 0.0000,\n",
      "         0.0000, 0.1402],\n",
      "        [0.0000, 0.5822, 0.7392, 0.2595, 0.0187, 0.6626, 0.0000, 0.0000, 0.0000,\n",
      "         0.0000, 0.0000, 0.5475, 0.2707, 0.2504, 0.0000, 0.0000, 0.0000, 0.0000,\n",
      "         0.0000, 0.0000],\n",
      "        [0.0000, 0.3625, 0.5586, 0.0000, 0.0000, 0.4636, 0.0000, 0.0000, 0.0000,\n",
      "         0.2591, 0.1435, 0.6109, 0.3145, 0.3518, 0.3801, 0.0000, 0.0113, 0.0000,\n",
      "         0.0000, 0.0000]], grad_fn=<ReluBackward0>)\n"
     ]
    }
   ],
   "source": [
    "print(f\"Before ReLU: {hidden1}\\n\\n\")\n",
    "hidden1 = nn.ReLU()(hidden1)\n",
    "print(f\"After ReLU: {hidden1}\")"
   ]
  },
  {
   "cell_type": "markdown",
   "id": "34e7743f-9b28-400e-aada-57f7c0553890",
   "metadata": {},
   "source": [
    "#### nn.Sequential \n",
    "nn.Sequential은 순서를 갖는 모듈의 컨테이너이다. 데이터는 정의된 것과 같은 순서로 모든 모듈들을 통해 전달된다. 순차 컨테이너를 사용하여 아래의 seq_moduels와 같은 신경망을 빠르게 만들 수 있다."
   ]
  },
  {
   "cell_type": "code",
   "execution_count": 10,
   "id": "3ae4146d-740f-431c-b180-71fe3178562c",
   "metadata": {},
   "outputs": [],
   "source": [
    "seq_modules = nn.Sequential(\n",
    "    flatten,\n",
    "    layer1,\n",
    "    nn.ReLU(),\n",
    "    nn.Linear(20,10)\n",
    ")\n",
    "input_image = torch.rand(3, 28, 28)\n",
    "logits = seq_modules(input_image)"
   ]
  },
  {
   "cell_type": "markdown",
   "id": "e3c32b82-67ed-4f15-81de-7fff83f4b059",
   "metadata": {},
   "source": [
    "#### nn.Softmax\n",
    "신경망의 마지막 레이어 nn.Softmax 모듈은 [-inf, inf]범위의 값을 logits 변환한다. logits는 모델의 각 분류(class)에 대한 예측 확률을 나타내도록 [0, 1] 범위로 비례하여 조정된다. dim 매개변수는 값의 합이 1이 되는 차원을 나타낸다."
   ]
  },
  {
   "cell_type": "code",
   "execution_count": 11,
   "id": "75ffce6c-beeb-4b06-82d6-c958cab21ffd",
   "metadata": {},
   "outputs": [],
   "source": [
    "softmax = nn.Softmax(dim = 1)\n",
    "pred_probab = softmax(logits)"
   ]
  },
  {
   "cell_type": "markdown",
   "id": "fa66820e-f670-4e24-af5e-a342cf504ad2",
   "metadata": {},
   "source": [
    "#### 모델 매개변수\n",
    "신경망 내부의 많은 계층들은 매개변수화 된다. 즉, 학습 중에 최적화되는 가중치와 편향을 찾아야 한다. nn.Module을 상속하면 모델 객체 내부의 모든 필드들이 자동으로 추적(Tracking)되며, 모델의 parameters()및 named_parameters() 메소드로 모든 매개변수에 접근할 수 있게 된다. 아래 코드는 각 매개변수들을 순회하며, 매개변수의 크기와 값을 출력한다."
   ]
  },
  {
   "cell_type": "code",
   "execution_count": 12,
   "id": "27578ecc-b08c-459c-bbc9-fefedb00e4f5",
   "metadata": {},
   "outputs": [
    {
     "name": "stdout",
     "output_type": "stream",
     "text": [
      "Model structure NeuralNetwork(\n",
      "  (flatten): Flatten(start_dim=1, end_dim=-1)\n",
      "  (linear_relu_stack): Sequential(\n",
      "    (0): Linear(in_features=784, out_features=512, bias=True)\n",
      "    (1): ReLU()\n",
      "    (2): Linear(in_features=512, out_features=512, bias=True)\n",
      "    (3): ReLU()\n",
      "    (4): Linear(in_features=512, out_features=10, bias=True)\n",
      "  )\n",
      ")\n",
      "\n",
      "\n",
      "Layer: linear_relu_stack.0.weight | Size: torch.Size([512, 784]) | Values : tensor([[-0.0235, -0.0322, -0.0082,  ..., -0.0337,  0.0022, -0.0105],\n",
      "        [ 0.0212, -0.0299, -0.0187,  ..., -0.0282,  0.0197,  0.0314]],\n",
      "       device='cuda:0', grad_fn=<SliceBackward0>)\n",
      "\n",
      "Layer: linear_relu_stack.0.bias | Size: torch.Size([512]) | Values : tensor([ 0.0312, -0.0236], device='cuda:0', grad_fn=<SliceBackward0>)\n",
      "\n",
      "Layer: linear_relu_stack.2.weight | Size: torch.Size([512, 512]) | Values : tensor([[-0.0336,  0.0206, -0.0368,  ..., -0.0358, -0.0385, -0.0051],\n",
      "        [-0.0362,  0.0120, -0.0164,  ..., -0.0347,  0.0195,  0.0180]],\n",
      "       device='cuda:0', grad_fn=<SliceBackward0>)\n",
      "\n",
      "Layer: linear_relu_stack.2.bias | Size: torch.Size([512]) | Values : tensor([0.0025, 0.0291], device='cuda:0', grad_fn=<SliceBackward0>)\n",
      "\n",
      "Layer: linear_relu_stack.4.weight | Size: torch.Size([10, 512]) | Values : tensor([[ 0.0406, -0.0125, -0.0428,  ...,  0.0156,  0.0322, -0.0134],\n",
      "        [-0.0162, -0.0161,  0.0360,  ...,  0.0052, -0.0424,  0.0410]],\n",
      "       device='cuda:0', grad_fn=<SliceBackward0>)\n",
      "\n",
      "Layer: linear_relu_stack.4.bias | Size: torch.Size([10]) | Values : tensor([-0.0071,  0.0282], device='cuda:0', grad_fn=<SliceBackward0>)\n",
      "\n"
     ]
    }
   ],
   "source": [
    "print(f\"Model structure {model}\\n\\n\")\n",
    "\n",
    "for name, param in model.named_parameters():\n",
    "    print(f\"Layer: {name} | Size: {param.size()} | Values : {param[:2]}\\n\")"
   ]
  }
 ],
 "metadata": {
  "kernelspec": {
   "display_name": "Python 3 (ipykernel)",
   "language": "python",
   "name": "python3"
  },
  "language_info": {
   "codemirror_mode": {
    "name": "ipython",
    "version": 3
   },
   "file_extension": ".py",
   "mimetype": "text/x-python",
   "name": "python",
   "nbconvert_exporter": "python",
   "pygments_lexer": "ipython3",
   "version": "3.8.10"
  }
 },
 "nbformat": 4,
 "nbformat_minor": 5
}
