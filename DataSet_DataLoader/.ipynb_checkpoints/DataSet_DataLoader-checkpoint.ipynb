{
 "cells": [
  {
   "cell_type": "code",
   "execution_count": null,
   "id": "92eed268-efae-439d-9e4e-3ab11c3c3c1e",
   "metadata": {},
   "outputs": [],
   "source": [
    "import torch\n",
    "from torch.utils.data import Dataset\n",
    "from torchvision import datasets\n",
    "from torchvision.transforms import ToTensor\n",
    "import matplotlib.pyplot as plt"
   ]
  },
  {
   "cell_type": "code",
   "execution_count": null,
   "id": "b50bea94-799c-4201-8fd6-4d7f963af2b0",
   "metadata": {},
   "outputs": [],
   "source": [
    "training_data = datasets.FashionMNIST(\n",
    "    root=\"data\",\n",
    "    train=True,\n",
    "    download=True,\n",
    "    transform=ToTensor()\n",
    ")"
   ]
  },
  {
   "cell_type": "code",
   "execution_count": null,
   "id": "91d05e5d-ff09-430c-9077-17479711a160",
   "metadata": {},
   "outputs": [],
   "source": [
    "test_data = datasets.FashionMNIST(\n",
    "    root = \"data\",\n",
    "    train=False,\n",
    "    download = True,\n",
    "    transform = ToTensor()\n",
    ")"
   ]
  },
  {
   "cell_type": "code",
   "execution_count": null,
   "id": "40282add-ee7e-4535-98f8-ce2a3b9d0a33",
   "metadata": {},
   "outputs": [],
   "source": [
    "labels_map = {\n",
    "    0: \"T-Shirt\",\n",
    "    1: \"Trouser\",\n",
    "    2: \"Pullover\",\n",
    "    3: \"Dress\",\n",
    "    4: \"Coat\",\n",
    "    5: \"Sandal\",\n",
    "    6: \"Shirt\",\n",
    "    7: \"Sneaker\",\n",
    "    8: \"Bag\",\n",
    "    9: \"Ankle Boot\",\n",
    "}\n",
    "figure = plt.figure(figsize=(8, 8))\n",
    "cols, rows = 3, 3\n",
    "for i in range(1, cols * rows + 1):\n",
    "    sample_idx = torch.randint(len(training_data), size=(1,)).item()\n",
    "    img, label = training_data[sample_idx]\n",
    "    figure.add_subplot(rows, cols, i)\n",
    "    plt.title(labels_map[label])\n",
    "    plt.axis(\"off\")\n",
    "    plt.imshow(img.squeeze(), cmap=\"gray\")\n",
    "plt.show()"
   ]
  },
  {
   "cell_type": "markdown",
   "id": "fa570dc2-e9ce-489e-a0bd-748f31be52df",
   "metadata": {},
   "source": [
    "### 파일에서 사용자 정의 데이터셋 만들기"
   ]
  },
  {
   "cell_type": "code",
   "execution_count": null,
   "id": "3cb3e344-f332-4bed-9b54-25733d0bbfe4",
   "metadata": {},
   "outputs": [],
   "source": [
    "import os\n",
    "import pandas as pd\n",
    "from torchvision.io import read_image"
   ]
  },
  {
   "cell_type": "code",
   "execution_count": null,
   "id": "577b5b56-94e9-4508-9e44-52551daebd43",
   "metadata": {},
   "outputs": [],
   "source": [
    "class CustomImageDataset(Dataset):\n",
    "    def __init__(self, annotations_file, img_dir, transform=None, target_transform=None):\n",
    "        self.img_labels = pd.read_csv(annotations_file, names=['file_name', 'label'])\n",
    "        self.img_dir = img_dir\n",
    "        self.transform = transform\n",
    "        self.target_transform = target_transform\n",
    "\n",
    "    def __len__(self):\n",
    "        return len(self.img_labels)\n",
    "\n",
    "    def __getitem__(self, idx):\n",
    "        img_path = os.path.join(self.img_dir, self.img_labels.iloc[idx, 0])\n",
    "        image = read_image(img_path)\n",
    "        label = self.img_labels.iloc[idx, 1]\n",
    "        if self.transform:\n",
    "            image = self.transform(image)\n",
    "        if self.traget_transform:\n",
    "            label = self.target_transform(label)\n",
    "        return image, label\n",
    "    "
   ]
  },
  {
   "cell_type": "markdown",
   "id": "b8440945-395a-4c2c-95a3-cae0f8076030",
   "metadata": {},
   "source": [
    "### DataLoader로 학습용 데이터 준비하기"
   ]
  },
  {
   "cell_type": "markdown",
   "id": "1b81f982-2c01-4d0a-ae1f-69f36ddc0df0",
   "metadata": {},
   "source": [
    "Dataset은 데이터셋의 Feature를 가져오고, 하나의 샘플에 Label을 지정하는 일을 한번에 한다. 모델을 학습할 때, 일반적으로 샘플들을 미니배치로 전달하고, 매 Epoch마다 데이터를 다시 섞어서 Overfit을 막고, Python의 Multiprocessing을 사용하여 데이터 검색 속도를 높인다.\n",
    "DataLoader는 단순한 형태의 API로 이런 복잡한 과정들을 추상화한 Iterable 객체이다."
   ]
  },
  {
   "cell_type": "code",
   "execution_count": null,
   "id": "01e6dc42-961c-48ba-9b7a-31cd88b19d9a",
   "metadata": {},
   "outputs": [],
   "source": [
    "from torch.utils.data import DataLoader\n",
    "\n",
    "train_dataloader = DataLoader(training_data, batch_size=64, shuffle=True)\n",
    "test_dataloader = DataLoader(test_data, batch_size=64, shuffle=True)"
   ]
  },
  {
   "cell_type": "markdown",
   "id": "078849cc-e9fd-4681-afad-6cba2c58f0a1",
   "metadata": {},
   "source": [
    "### DataLoader를 통해 순회하기 (iterate)"
   ]
  },
  {
   "cell_type": "markdown",
   "id": "db58053a-8b55-4add-aeca-e57665d7267b",
   "metadata": {},
   "source": [
    "DataLoader에 데이터셋을 불러온 뒤에는 필요에 따라 데이터셋을 순회할 수 있다."
   ]
  },
  {
   "cell_type": "code",
   "execution_count": null,
   "id": "0194416d-2a38-4806-bfe5-426a47528d64",
   "metadata": {},
   "outputs": [],
   "source": [
    "train_features, train_labels = next(iter(train_dataloader))\n",
    "img = train_features[0].squeeze()\n",
    "label = train_labels[0]\n",
    "plt.imshow(img, cmap=\"gray\")\n",
    "plt.show()"
   ]
  }
 ],
 "metadata": {
  "kernelspec": {
   "display_name": "Python 3 (ipykernel)",
   "language": "python",
   "name": "python3"
  },
  "language_info": {
   "codemirror_mode": {
    "name": "ipython",
    "version": 3
   },
   "file_extension": ".py",
   "mimetype": "text/x-python",
   "name": "python",
   "nbconvert_exporter": "python",
   "pygments_lexer": "ipython3",
   "version": "3.8.10"
  }
 },
 "nbformat": 4,
 "nbformat_minor": 5
}
