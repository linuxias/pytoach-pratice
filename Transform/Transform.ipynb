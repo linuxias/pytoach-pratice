{
 "cells": [
  {
   "cell_type": "markdown",
   "id": "14488be2-12b8-4b1a-ad50-2e78da75b37c",
   "metadata": {},
   "source": [
    "데이터가 항상 기계학습에 필요한 데이터 전처리가 모두 완료된 형태로 제공되지 않는다. Transform을 통해 데이터를 조작하고 학습에 적합한 형태로 만든다.\n",
    "\n",
    "모든 TorchVision 데이터셋들은 변형 로직을 갖는, 호출 가능한 객체를 받는 매개변수 두개(transform, target_transform)을 갖는다. torchvision.transforms 모듈은 주로 사용하는 몇가지 변형 기법을 제공한다."
   ]
  },
  {
   "cell_type": "code",
   "execution_count": 2,
   "id": "18c7cc53-69bf-4792-b64f-a2348a08a532",
   "metadata": {},
   "outputs": [],
   "source": [
    "import torch\n",
    "from torchvision import datasets\n",
    "from torchvision.transforms import ToTensor, Lambda"
   ]
  },
  {
   "cell_type": "code",
   "execution_count": 5,
   "id": "c9c04d21-09f6-4ee2-aeca-3d164143d144",
   "metadata": {},
   "outputs": [],
   "source": [
    "ds = datasets.FashionMNIST(\n",
    "    root = \"data\",\n",
    "    train = True,\n",
    "    download = True,\n",
    "    transform = ToTensor(),\n",
    "    target_transform = Lambda(lambda y: torch.zeros(10, dtype=torch.float).scatter_(0, torch.tensor(y), value=1))\n",
    ")"
   ]
  },
  {
   "cell_type": "markdown",
   "id": "651ad911-c2a0-4b85-ac9b-d2845bbc6e65",
   "metadata": {},
   "source": [
    "#### ToTensor()\n",
    "ToTensor()는 PIL Image나 NumPy ndarray를 FloatTensor로 변환하고 이미지의 픽셀 크리 값을 [0, 1.] 범위로 비례하여 조정한다."
   ]
  },
  {
   "cell_type": "markdown",
   "id": "778ffeab-6975-4933-abb3-f8130fbd2624",
   "metadata": {},
   "source": [
    "#### Lambda Transform\n",
    "Lambda Transform은 사용자 정의 lambda 함수를 적용한다. 여기에서 정수를 One-Hot Encoding된 Tensor로 변경하는 함수를 정의한다."
   ]
  },
  {
   "cell_type": "code",
   "execution_count": 7,
   "id": "00eee391-eaca-4f0e-801a-8e6570174893",
   "metadata": {},
   "outputs": [],
   "source": [
    "target_transform = Lambda(lambda y: torch.zeros(\n",
    "    10, dtype=torch.float).scatter_(dim=0, index=torch.tensor(y), value=1))"
   ]
  }
 ],
 "metadata": {
  "kernelspec": {
   "display_name": "Python 3 (ipykernel)",
   "language": "python",
   "name": "python3"
  },
  "language_info": {
   "codemirror_mode": {
    "name": "ipython",
    "version": 3
   },
   "file_extension": ".py",
   "mimetype": "text/x-python",
   "name": "python",
   "nbconvert_exporter": "python",
   "pygments_lexer": "ipython3",
   "version": "3.8.10"
  }
 },
 "nbformat": 4,
 "nbformat_minor": 5
}
